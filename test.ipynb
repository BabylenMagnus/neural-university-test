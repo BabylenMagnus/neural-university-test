{
 "cells": [
  {
   "cell_type": "code",
   "outputs": [
    {
     "data": {
      "text/plain": "'13579111315171921232527293133353739414345474951535557596163656769717375777981838587899193959799'"
     },
     "execution_count": 1,
     "metadata": {},
     "output_type": "execute_result"
    }
   ],
   "source": [
    "# 1 задание\n",
    "odd_numbers = \"\".join([str(i) for i in range(100) if i % 2])\n",
    "odd_numbers"
   ],
   "metadata": {
    "collapsed": false,
    "ExecuteTime": {
     "end_time": "2023-12-22T02:49:06.466487496Z",
     "start_time": "2023-12-22T02:49:06.319204048Z"
    }
   },
   "id": "73b097a51684ea02",
   "execution_count": 1
  },
  {
   "cell_type": "markdown",
   "source": [
    "## 2 задание \n",
    "\n",
    "Мы получим ошибку из-за областей видимости, мы пытаемся узнать значение локальной переменной, до её создания. Можно убрать ошибку двумя способоми:\n",
    "\n",
    "1) не создавать локальную переменную\n",
    "```python3\n",
    "b = 10\n",
    "def f(a):\n",
    "    print(a)\n",
    "    print(b)\n",
    "f(3)\n",
    "```\n",
    "\n",
    "2) дать доступ к глобальной переменной с помощью оператора `global`\n",
    "```python3\n",
    "b = 10\n",
    "def f(a):\n",
    "    global b\n",
    "    print(a)\n",
    "    print(b)\n",
    "    b = 10\n",
    "f(3)\n",
    "```"
   ],
   "metadata": {
    "collapsed": false
   },
   "id": "f974e3d7248a94de"
  },
  {
   "cell_type": "markdown",
   "source": [
    "## 3 задание\n",
    "\n",
    "Получим ошибку, потому что тип tuple не изменяется."
   ],
   "metadata": {
    "collapsed": false
   },
   "id": "5cb4d98f52f05e0b"
  },
  {
   "cell_type": "code",
   "outputs": [
    {
     "data": {
      "text/plain": "('321', True)"
     },
     "execution_count": 2,
     "metadata": {},
     "output_type": "execute_result"
    }
   ],
   "source": [
    "# 4 задание\n",
    "reverse_str = lambda s: s[::-1]\n",
    "is_palindrome = lambda s: s == reverse_str(s)\n",
    "\n",
    "reverse_str(\"123\"), is_palindrome(\"12121\")"
   ],
   "metadata": {
    "collapsed": false,
    "ExecuteTime": {
     "end_time": "2023-12-22T02:49:06.506211541Z",
     "start_time": "2023-12-22T02:49:06.366673341Z"
    }
   },
   "id": "25c108d5f4cafedf",
   "execution_count": 2
  },
  {
   "cell_type": "code",
   "outputs": [
    {
     "data": {
      "text/plain": "[2,\n 1,\n 14,\n 8,\n 3,\n 2,\n 5,\n 5,\n 7,\n 1,\n 1,\n 8,\n 6,\n 4,\n 19,\n 21,\n 25,\n 37,\n 13,\n 9,\n 40,\n 21,\n 14,\n 1,\n 1,\n 2,\n 3,\n 11,\n 5,\n 11,\n 15,\n 4,\n 10,\n 10,\n 10,\n 2,\n 16,\n 5,\n 11,\n 3,\n 12,\n 3,\n 12,\n 3,\n 11,\n 3,\n 18,\n 18,\n 1,\n 1,\n 10,\n 2,\n 6,\n 15,\n 20,\n 4,\n 2,\n 5,\n 6,\n 4]"
     },
     "execution_count": 3,
     "metadata": {},
     "output_type": "execute_result"
    }
   ],
   "source": [
    "# 5 задание\n",
    "def words_count(file_path: str) -> list[int]:\n",
    "    out = []\n",
    "    with open(file_path, \"r\") as t:\n",
    "        for i in t.readlines():\n",
    "            out.append(len(i.split(\" \")))\n",
    "    return out\n",
    "\n",
    "words_count(\"Тестовое задание.txt\")"
   ],
   "metadata": {
    "collapsed": false,
    "ExecuteTime": {
     "end_time": "2023-12-22T02:49:06.543148311Z",
     "start_time": "2023-12-22T02:49:06.367349922Z"
    }
   },
   "id": "c04e98197fed3566",
   "execution_count": 3
  },
  {
   "cell_type": "code",
   "outputs": [],
   "source": [
    "# 6-7 задание\n",
    "import re\n",
    "import functools\n",
    "import time\n",
    "from faker import Faker\n",
    "import random"
   ],
   "metadata": {
    "collapsed": false,
    "ExecuteTime": {
     "end_time": "2023-12-22T02:49:06.787603420Z",
     "start_time": "2023-12-22T02:49:06.409874768Z"
    }
   },
   "id": "d4ab47e1a91a7207",
   "execution_count": 4
  },
  {
   "cell_type": "code",
   "outputs": [],
   "source": [
    "test_file_path = \"test_file.txt\"\n",
    "large_test_file_path = \"test_large.txt\"\n",
    "out_file_path = \"output.txt\""
   ],
   "metadata": {
    "collapsed": false,
    "ExecuteTime": {
     "end_time": "2023-12-22T02:49:06.789723443Z",
     "start_time": "2023-12-22T02:49:06.551448672Z"
    }
   },
   "id": "223bdb82024a4def",
   "execution_count": 5
  },
  {
   "cell_type": "code",
   "outputs": [],
   "source": [
    "fake = Faker()\n",
    "\n",
    "with open(test_file_path, \"w\") as t:\n",
    "    for _ in range(1000):\n",
    "        t.write(\" \".join([fake.email() for _ in range(random.randint(1, 10))]) + \"\\n\")\n",
    "\n",
    "with open(large_test_file_path, \"w\") as t:\n",
    "    for _ in range(int(1e5)):\n",
    "        t.write(\" \".join([fake.email() for _ in range(random.randint(1, 10))]) + \"\\n\")"
   ],
   "metadata": {
    "collapsed": false,
    "ExecuteTime": {
     "end_time": "2023-12-22T02:51:40.598695402Z",
     "start_time": "2023-12-22T02:49:06.726039843Z"
    }
   },
   "id": "abfdf178ab54dcdf",
   "execution_count": 6
  },
  {
   "cell_type": "code",
   "outputs": [],
   "source": [
    "# декоратор timeit\n",
    "def timeit(N=None):\n",
    "    def decorator(func):\n",
    "        @functools.wraps(func)\n",
    "        def wrapper(*args, **kwargs):\n",
    "            start = time.perf_counter()\n",
    "            result = func(*args, **kwargs)\n",
    "            complete_time = time.perf_counter() - start\n",
    "            if N is not None and complete_time > N:\n",
    "                print(\"функция превысила время выполнения\")\n",
    "            print(f'{complete_time:.6f} seconds')\n",
    "            return result\n",
    "        return wrapper\n",
    "    return decorator\n",
    "\n",
    "@timeit(0.1)\n",
    "def copy_emails(input_file, output_file):\n",
    "    with open(input_file, 'r') as file:\n",
    "        text = file.read()\n",
    "    \n",
    "    regex_email = re.compile('[a-z0-9\\.\\-+_]+@[a-z0-9\\.\\-+_]+\\.[a-z]+')\n",
    "\n",
    "    with open(output_file, 'w') as file:\n",
    "        for email in re.findall(regex_email, text):\n",
    "            file.write(email + '\\n')"
   ],
   "metadata": {
    "collapsed": false,
    "ExecuteTime": {
     "end_time": "2023-12-22T02:51:40.621993474Z",
     "start_time": "2023-12-22T02:51:40.598320688Z"
    }
   },
   "id": "896a04bacc1357eb",
   "execution_count": 7
  },
  {
   "cell_type": "code",
   "outputs": [
    {
     "name": "stdout",
     "output_type": "stream",
     "text": [
      "0.007606 seconds\n"
     ]
    }
   ],
   "source": [
    "copy_emails(test_file_path, out_file_path)"
   ],
   "metadata": {
    "collapsed": false,
    "ExecuteTime": {
     "end_time": "2023-12-22T02:51:40.638618922Z",
     "start_time": "2023-12-22T02:51:40.599220809Z"
    }
   },
   "id": "ee2a4f5f99fc19bd",
   "execution_count": 8
  },
  {
   "cell_type": "code",
   "outputs": [
    {
     "name": "stdout",
     "output_type": "stream",
     "text": [
      "функция превысила время выполнения\n",
      "0.551198 seconds\n"
     ]
    }
   ],
   "source": [
    "copy_emails(large_test_file_path, out_file_path)"
   ],
   "metadata": {
    "collapsed": false,
    "ExecuteTime": {
     "end_time": "2023-12-22T02:51:41.141251637Z",
     "start_time": "2023-12-22T02:51:40.600158099Z"
    }
   },
   "id": "ebcbf55b04102dc3",
   "execution_count": 9
  },
  {
   "cell_type": "code",
   "outputs": [],
   "source": [],
   "metadata": {
    "collapsed": false,
    "ExecuteTime": {
     "end_time": "2023-12-22T02:51:41.228924757Z",
     "start_time": "2023-12-22T02:51:41.143062097Z"
    }
   },
   "id": "686397d79f9096e8",
   "execution_count": 9
  }
 ],
 "metadata": {
  "kernelspec": {
   "display_name": "Python 3",
   "language": "python",
   "name": "python3"
  },
  "language_info": {
   "codemirror_mode": {
    "name": "ipython",
    "version": 2
   },
   "file_extension": ".py",
   "mimetype": "text/x-python",
   "name": "python",
   "nbconvert_exporter": "python",
   "pygments_lexer": "ipython2",
   "version": "2.7.6"
  }
 },
 "nbformat": 4,
 "nbformat_minor": 5
}
